{
  "cells": [
    {
      "cell_type": "markdown",
      "metadata": {
        "id": "view-in-github",
        "colab_type": "text"
      },
      "source": [
        "<a href=\"https://colab.research.google.com/github/tanmayispiddy07/LOcus_wed/blob/main/phase_generator_2.ipynb\" target=\"_parent\"><img src=\"https://colab.research.google.com/assets/colab-badge.svg\" alt=\"Open In Colab\"/></a>"
      ]
    },
    {
      "cell_type": "code",
      "execution_count": 1,
      "metadata": {
        "id": "JT7e9THVYKFN"
      },
      "outputs": [],
      "source": [
        "import pandas as pd"
      ]
    },
    {
      "cell_type": "code",
      "execution_count": 2,
      "metadata": {
        "colab": {
          "base_uri": "https://localhost:8080/"
        },
        "id": "5P30IwC1Mei5",
        "outputId": "3502723a-dd23-4331-c32d-29d912cfc83c"
      },
      "outputs": [
        {
          "output_type": "stream",
          "name": "stdout",
          "text": [
            "You are authorizing client libraries without access to a web browser. Please run the following command on a machine with a web browser and copy its output back here. Make sure the installed gcloud version is 372.0.0 or newer.\n",
            "\n",
            "gcloud auth application-default login --remote-bootstrap=\"https://accounts.google.com/o/oauth2/auth?response_type=code&client_id=9418359443-nldovmhh4iq7db59e4311n94tounuk1g.apps.googleusercontent.com&scope=https%3A%2F%2Fwww.googleapis.com%2Fauth%2Fcloud-platform+https%3A%2F%2Fwww.googleapis.com%2Fauth%2Fgenerative-language.tuning&state=P12tN66K2KgIZOyWvdmLhuqHWX6TZt&access_type=offline&code_challenge=8JXe5o0KVwDaCdd9oFHo1IcRNp4Fr9MGaWr1tvqLJPM&code_challenge_method=S256&token_usage=remote\"\n",
            "\n",
            "\n",
            "Enter the output of the above command: https://localhost:8085/?state=P12tN66K2KgIZOyWvdmLhuqHWX6TZt&code=4/0AQlEd8zLP1zANRTDjCeGWp9bVDykZa-zWtItJciGnXB9KMOE72k6182DdjnoUi1YBKh_lg&scope=https://www.googleapis.com/auth/cloud-platform%20https://www.googleapis.com/auth/generative-language.tuning\n",
            "\n",
            "Credentials saved to file: [/content/.config/application_default_credentials.json]\n",
            "\n",
            "These credentials will be used by any library that requests Application Default Credentials (ADC).\n"
          ]
        }
      ],
      "source": [
        "import os\n",
        "if 'COLAB_RELEASE_TAG' in os.environ:\n",
        "  from google.colab import userdata\n",
        "  import pathlib\n",
        "  pathlib.Path('/content/client_secret.json').write_text(userdata.get('CLIENT_SECRET'))\n",
        "\n",
        "  # Use `--no-browser` in colab\n",
        "  !gcloud auth application-default login --no-browser --client-id-file client_secret.json --scopes='https://www.googleapis.com/auth/cloud-platform,https://www.googleapis.com/auth/generative-language.tuning'\n",
        "else:\n",
        "  !gcloud auth application-default login --client-id-file client_secret.json --scopes='https://www.googleapis.com/auth/cloud-platform,https://www.googleapis.com/auth/generative-language.tuning'"
      ]
    },
    {
      "cell_type": "code",
      "execution_count": null,
      "metadata": {
        "id": "hJ2KY4cCM14W"
      },
      "outputs": [],
      "source": [
        "!pip install -q google-generativeai"
      ]
    },
    {
      "cell_type": "code",
      "execution_count": 3,
      "metadata": {
        "id": "OQsRDV2HMyCg"
      },
      "outputs": [],
      "source": [
        "import google.generativeai as genai"
      ]
    },
    {
      "cell_type": "code",
      "execution_count": 4,
      "metadata": {
        "colab": {
          "base_uri": "https://localhost:8080/"
        },
        "id": "GZ6NhVpPM4si",
        "outputId": "4fbc3909-d63e-45cf-f104-21790e640f1d"
      },
      "outputs": [
        {
          "output_type": "stream",
          "name": "stdout",
          "text": [
            "tunedModels/phasegenerator2-8kybdxroccyf\n",
            "tunedModels/phrasegenerator3-ktb3b1xs5lcb\n",
            "tunedModels/phasegenerator6\n",
            "tunedModels/phase-generator-7\n",
            "tunedModels/phase-generator-8\n"
          ]
        }
      ],
      "source": [
        "for i, m in zip(range(5), genai.list_tuned_models()):\n",
        "  print(m.name)"
      ]
    },
    {
      "cell_type": "code",
      "execution_count": 5,
      "metadata": {
        "colab": {
          "base_uri": "https://localhost:8080/"
        },
        "id": "vHk-WRb2M7_R",
        "outputId": "4001c09a-e87a-4cf8-d141-c53e25e4b2fe"
      },
      "outputs": [
        {
          "output_type": "execute_result",
          "data": {
            "text/plain": [
              "Model(name='models/gemini-1.5-flash-001-tuning',\n",
              "      base_model_id='',\n",
              "      version='001',\n",
              "      display_name='Gemini 1.5 Flash 001 Tuning',\n",
              "      description='Fast and versatile multimodal model for scaling across diverse tasks',\n",
              "      input_token_limit=16384,\n",
              "      output_token_limit=8192,\n",
              "      supported_generation_methods=['generateContent', 'countTokens', 'createTunedModel'],\n",
              "      temperature=1.0,\n",
              "      max_temperature=2.0,\n",
              "      top_p=0.95,\n",
              "      top_k=64)"
            ]
          },
          "metadata": {},
          "execution_count": 5
        }
      ],
      "source": [
        "base_model = [\n",
        "    m for m in genai.list_models()\n",
        "    if \"createTunedModel\" in m.supported_generation_methods][1]\n",
        "base_model"
      ]
    },
    {
      "cell_type": "code",
      "execution_count": null,
      "metadata": {
        "id": "LKTgFuUlakns"
      },
      "outputs": [],
      "source": []
    },
    {
      "cell_type": "code",
      "execution_count": null,
      "metadata": {
        "id": "TeIXdMm9M_B3"
      },
      "outputs": [],
      "source": [
        "import json\n",
        "\n",
        "# Open the JSON file for reading\n",
        "with open('/content/train.json', 'r') as f:\n",
        "    # Try to load the JSON data, handling potential errors\n",
        "    try:\n",
        "        data = json.load(f)\n",
        "    except json.JSONDecodeError as e:\n",
        "        # Print a more informative error message if decoding fails\n",
        "        print(f\"Error decoding JSON: {e}\")\n",
        "        # Optionally, print the problematic line from the JSON file\n",
        "        f.seek(0)\n",
        "        for i, line in enumerate(f):\n",
        "            if i == e.lineno - 1:\n",
        "                print(f\"Problematic line ({e.lineno}): {line.strip()}\")\n",
        "                break\n",
        "        exit()  # Exit the script if there's a JSON decoding error\n"
      ]
    },
    {
      "cell_type": "code",
      "execution_count": null,
      "metadata": {
        "id": "umBGnHpUX1PS"
      },
      "outputs": [],
      "source": [
        "df = pd.read_json('/content/train.json')"
      ]
    },
    {
      "cell_type": "code",
      "execution_count": null,
      "metadata": {
        "id": "e945FjnRXLAt"
      },
      "outputs": [],
      "source": [
        "df_shuffled = df.sample(frac=1, random_state=42).reset_index(drop=True)"
      ]
    },
    {
      "cell_type": "code",
      "execution_count": null,
      "metadata": {
        "id": "l6QTgPqIcTN0"
      },
      "outputs": [],
      "source": [
        "df_sampled = pd.DataFrame()\n",
        "df_sampled['text_input']= df_shuffled['Tweet'].head(120)\n",
        "df_sampled['output'] = df_shuffled['Target'].head(120)\n"
      ]
    },
    {
      "cell_type": "code",
      "execution_count": null,
      "metadata": {
        "id": "iK5xJWfBNB3_"
      },
      "outputs": [],
      "source": [
        "name = f'phase-generator-8'\n",
        "operation = genai.create_tuned_model(\n",
        "\n",
        "    source_model=base_model.name,\n",
        "    training_data=df_sampled,\n",
        "    id = name,\n",
        "    epoch_count = 2,\n",
        "    batch_size=4,\n",
        "    learning_rate=0.0001,\n",
        ")"
      ]
    },
    {
      "cell_type": "code",
      "execution_count": null,
      "metadata": {
        "colab": {
          "base_uri": "https://localhost:8080/",
          "height": 49,
          "referenced_widgets": [
            "c33ca50ce44b4311acaffbca9f2a2e1b",
            "01e29e0eb49c45f3bb42881751c9e066",
            "90dfa0e30f3c47c5b21558b2f3a4ee1c",
            "9780a821fd6a4517a62b5eab96af7fee",
            "eef15bbaf05e4bcf87ad7d6f01e71e23",
            "35f62250e3a64f71834aea698ccf159a",
            "0cd77af7c0274e3e85e4c31735e099de",
            "23cc064d335644d7a1bd5f111e37b1f6",
            "5f7d51d1dd6a4e30b2ee22e251437310",
            "4d59e3d85a9e49268e9259509a9bd5e8",
            "58991618ff1d4dfd8bf0c6a28a51e01d"
          ]
        },
        "id": "Mbxtb7Rfeyzd",
        "outputId": "5317f708-22e2-40bb-ffa0-3987bf817e1f"
      },
      "outputs": [
        {
          "data": {
            "application/vnd.jupyter.widget-view+json": {
              "model_id": "c33ca50ce44b4311acaffbca9f2a2e1b",
              "version_major": 2,
              "version_minor": 0
            },
            "text/plain": [
              "  0%|          | 0/150 [00:00<?, ?it/s]"
            ]
          },
          "metadata": {},
          "output_type": "display_data"
        }
      ],
      "source": [
        "import time\n",
        "\n",
        "for status in operation.wait_bar():\n",
        "  time.sleep(30)"
      ]
    },
    {
      "cell_type": "code",
      "execution_count": null,
      "metadata": {
        "colab": {
          "base_uri": "https://localhost:8080/"
        },
        "id": "RXtmm8vZNGNu",
        "outputId": "4ad563aa-1206-4524-9f50-2c88c5fa5b36"
      },
      "outputs": [
        {
          "data": {
            "text/plain": [
              "TunedModel(name='tunedModels/phase-generator-7',\n",
              "           source_model='models/gemini-1.5-flash-001-tuning',\n",
              "           base_model='models/gemini-1.5-flash-001-tuning',\n",
              "           display_name='',\n",
              "           description='',\n",
              "           temperature=1.0,\n",
              "           top_p=0.95,\n",
              "           top_k=64,\n",
              "           state=<State.ACTIVE: 2>,\n",
              "           create_time=datetime.datetime(2024, 8, 21, 10, 28, 25, 455110, tzinfo=datetime.timezone.utc),\n",
              "           update_time=datetime.datetime(2024, 8, 21, 10, 44, 14, 271836, tzinfo=datetime.timezone.utc),\n",
              "           tuning_task=TuningTask(start_time=datetime.datetime(2024, 8, 21, 10, 28, 26, 74889, tzinfo=datetime.timezone.utc),\n",
              "                                  complete_time=datetime.datetime(2024, 8, 21, 10, 44, 14, 271836, tzinfo=datetime.timezone.utc),\n",
              "                                  snapshots=[...],\n",
              "                                  hyperparameters=Hyperparameters(epoch_count=5,\n",
              "                                                                  batch_size=4,\n",
              "                                                                  learning_rate=0.0001)))"
            ]
          },
          "execution_count": 109,
          "metadata": {},
          "output_type": "execute_result"
        }
      ],
      "source": [
        "model = genai.get_tuned_model(f'tunedModels/phase-generator-7')\n",
        "\n",
        "model"
      ]
    },
    {
      "cell_type": "code",
      "execution_count": null,
      "metadata": {
        "colab": {
          "base_uri": "https://localhost:8080/",
          "height": 211
        },
        "id": "4gSrdGZqnaIV",
        "outputId": "3724f824-b188-42a7-db74-e67b69584c26"
      },
      "outputs": [
        {
          "ename": "NameError",
          "evalue": "name 'operation' is not defined",
          "output_type": "error",
          "traceback": [
            "\u001b[0;31m---------------------------------------------------------------------------\u001b[0m",
            "\u001b[0;31mNameError\u001b[0m                                 Traceback (most recent call last)",
            "\u001b[0;32m<ipython-input-14-a35529fc4ad9>\u001b[0m in \u001b[0;36m<cell line: 4>\u001b[0;34m()\u001b[0m\n\u001b[1;32m      2\u001b[0m \u001b[0;32mimport\u001b[0m \u001b[0mseaborn\u001b[0m \u001b[0;32mas\u001b[0m \u001b[0msns\u001b[0m\u001b[0;34m\u001b[0m\u001b[0;34m\u001b[0m\u001b[0m\n\u001b[1;32m      3\u001b[0m \u001b[0;34m\u001b[0m\u001b[0m\n\u001b[0;32m----> 4\u001b[0;31m \u001b[0mmodel\u001b[0m \u001b[0;34m=\u001b[0m \u001b[0moperation\u001b[0m\u001b[0;34m.\u001b[0m\u001b[0mresult\u001b[0m\u001b[0;34m(\u001b[0m\u001b[0;34m)\u001b[0m\u001b[0;34m\u001b[0m\u001b[0;34m\u001b[0m\u001b[0m\n\u001b[0m\u001b[1;32m      5\u001b[0m \u001b[0;34m\u001b[0m\u001b[0m\n\u001b[1;32m      6\u001b[0m \u001b[0msnapshots\u001b[0m \u001b[0;34m=\u001b[0m \u001b[0mpd\u001b[0m\u001b[0;34m.\u001b[0m\u001b[0mDataFrame\u001b[0m\u001b[0;34m(\u001b[0m\u001b[0mmodel\u001b[0m\u001b[0;34m.\u001b[0m\u001b[0mtuning_task\u001b[0m\u001b[0;34m.\u001b[0m\u001b[0msnapshots\u001b[0m\u001b[0;34m)\u001b[0m\u001b[0;34m\u001b[0m\u001b[0;34m\u001b[0m\u001b[0m\n",
            "\u001b[0;31mNameError\u001b[0m: name 'operation' is not defined"
          ]
        }
      ],
      "source": [
        "import pandas as pd\n",
        "import seaborn as sns\n",
        "\n",
        "model = operation.result()\n",
        "\n",
        "snapshots = pd.DataFrame(model.tuning_task.snapshots)\n",
        "\n",
        "sns.lineplot(data=snapshots, x = 'epoch', y='mean_loss')"
      ]
    },
    {
      "cell_type": "code",
      "execution_count": 10,
      "metadata": {
        "id": "ktCFAEj1NHPP"
      },
      "outputs": [],
      "source": [
        "import pandas as pd\n",
        "from google.generativeai.types import HarmCategory, HarmBlockThreshold\n",
        "import json"
      ]
    },
    {
      "cell_type": "code",
      "execution_count": 6,
      "metadata": {
        "id": "r4B7_xQ-PQxa"
      },
      "outputs": [],
      "source": [
        "df = pd.read_csv('/content/test_20.csv' , encoding='latin-1')"
      ]
    },
    {
      "cell_type": "code",
      "execution_count": 47,
      "metadata": {
        "id": "XXi7fuLDPbhB"
      },
      "outputs": [],
      "source": [
        "generation_config = {\n",
        "  \"temperature\": 1,\n",
        "  \"top_p\": 0.95,\n",
        "  \"top_k\": 64,\n",
        "  \"max_output_tokens\": 8192,\n",
        "  \"response_mime_type\": \"text/plain\",\n",
        "\n",
        "}\n",
        "\n",
        "model = genai.GenerativeModel(\n",
        "  model_name=\"tunedModels/phase-generator-7\",\n",
        "  generation_config=generation_config,\n",
        "\n",
        ")\n",
        "\n",
        "chat_session = model.start_chat(\n",
        "  history=[\n",
        "    {\n",
        "      \"role\": \"model\",\n",
        "      \"parts\": [\n",
        "        \"```json\\n{\\n  \\\"target\\\": \\\"Creationism\\\",\\n  \\\"stance\\\": \\\"Negative\\\" \\n}\\n``` \\n\",\n",
        "      ],\n",
        "    },\n",
        "    {\n",
        "      \"role\": \"model\",\n",
        "      \"parts\": [\n",
        "        \"```json\\n{\\n  \\\"target\\\": \\\"MeToo\\\", \\n  \\\"stance\\\": \\\"Against\\\" \\n}\\n```\",\n",
        "      ],\n",
        "    },\n",
        "\n",
        "    {\n",
        "      \"role\": \"model\",\n",
        "      \"parts\": [\n",
        "        \"```json\\n{\\n  \\\"target\\\": \\\"ClimateChange\\\",\\n  \\\"stance\\\": \\\"Favor\\\" \\n}'''\",\n",
        "      ],\n",
        "    },\n",
        "  ]\n",
        ")"
      ]
    },
    {
      "cell_type": "code",
      "execution_count": 8,
      "metadata": {
        "id": "dZqEtjMvPsjc"
      },
      "outputs": [],
      "source": [
        "def predict_target_and_stance(tweet_text):\n",
        "    json_response = chat_session.send_message(\n",
        "        [\"find the implicit target of this tweet\"+tweet_text],safety_settings={\n",
        "            HarmCategory.HARM_CATEGORY_HATE_SPEECH: HarmBlockThreshold.BLOCK_NONE,\n",
        "            HarmCategory.HARM_CATEGORY_HARASSMENT: HarmBlockThreshold.BLOCK_NONE,\n",
        "            HarmCategory.HARM_CATEGORY_DANGEROUS_CONTENT: HarmBlockThreshold.BLOCK_NONE,\n",
        "        }\n",
        "    )\n",
        "\n",
        "    return json_response.to_dict()"
      ]
    },
    {
      "cell_type": "code",
      "execution_count": 12,
      "metadata": {
        "colab": {
          "base_uri": "https://localhost:8080/"
        },
        "id": "R9QrhFj_Jpse",
        "outputId": "dcb991b6-b043-4e4c-95cb-82330ce4dd9a"
      },
      "outputs": [
        {
          "output_type": "stream",
          "name": "stdout",
          "text": [
            "{'candidates': [{'content': {'parts': [{'text': 'Death Penalty'}], 'role': 'model'}, 'finish_reason': 1, 'index': 0, 'safety_ratings': [{'category': 9, 'probability': 1, 'blocked': False}, {'category': 8, 'probability': 1, 'blocked': False}, {'category': 7, 'probability': 1, 'blocked': False}, {'category': 10, 'probability': 1, 'blocked': False}], 'token_count': 0, 'grounding_attributions': []}], 'usage_metadata': {'prompt_token_count': 130, 'candidates_token_count': 2, 'total_token_count': 132, 'cached_content_token_count': 0}}\n"
          ]
        }
      ],
      "source": [
        "response_json = predict_target_and_stance(df['Tweet'][180])\n",
        "json_text=response_json['candidates'][0]['content']['parts'][0]['text']\n",
        "json_text_cleaned = json_text.strip('```json\\n').strip('\\n``` ')\n",
        "print(response_json)"
      ]
    },
    {
      "cell_type": "code",
      "execution_count": 13,
      "metadata": {
        "colab": {
          "base_uri": "https://localhost:8080/",
          "height": 35
        },
        "id": "-jYpt964Zomt",
        "outputId": "d27c585f-9105-4fd0-9a60-1e9e7887517e"
      },
      "outputs": [
        {
          "output_type": "execute_result",
          "data": {
            "text/plain": [
              "'the number of years on the average spent in death row is years'"
            ],
            "application/vnd.google.colaboratory.intrinsic+json": {
              "type": "string"
            }
          },
          "metadata": {},
          "execution_count": 13
        }
      ],
      "source": [
        "df['Tweet'][190]"
      ]
    },
    {
      "cell_type": "code",
      "execution_count": null,
      "metadata": {
        "colab": {
          "base_uri": "https://localhost:8080/"
        },
        "id": "dXsOmSslZRRB",
        "outputId": "be85027d-d487-4efa-ffb9-140346ce9e2c"
      },
      "outputs": [
        {
          "data": {
            "text/plain": [
              "{'cloning', 'cloningcloning'}"
            ]
          },
          "execution_count": 105,
          "metadata": {},
          "output_type": "execute_result"
        }
      ],
      "source": []
    },
    {
      "cell_type": "code",
      "execution_count": 14,
      "metadata": {
        "id": "ij3OhuaIRC6g"
      },
      "outputs": [],
      "source": [
        "df['Predictions'] = None\n",
        "\n",
        "for i in range(100):\n",
        "  response_json = predict_target_and_stance(df['Tweet'][i])\n",
        "  json_text=response_json['candidates'][0]['content']['parts'][0]['text']\n",
        "  json_text_cleaned = json_text.strip('```json\\n').strip('\\n``` ')\n",
        "  df.at[i, 'Predictions'] = json_text_cleaned"
      ]
    },
    {
      "cell_type": "code",
      "execution_count": 43,
      "metadata": {
        "id": "4yrP8StOPVE8"
      },
      "outputs": [],
      "source": [
        "for i in range(100,200):\n",
        "  response_json = predict_target_and_stance(df['Tweet'][i])\n",
        "  json_text=response_json['candidates'][0]['content']['parts'][0]['text']\n",
        "  json_text_cleaned = json_text.strip('```json\\n').strip('\\n``` ')\n",
        "  df.at[i, 'Predictions'] = json_text_cleaned"
      ]
    },
    {
      "cell_type": "code",
      "execution_count": 48,
      "metadata": {
        "id": "TUeFWfYBhdnQ"
      },
      "outputs": [],
      "source": [
        "for i in range(200,300):\n",
        "  response_json = predict_target_and_stance(df['Tweet'][i])\n",
        "  json_text=response_json['candidates'][0]['content']['parts'][0]['text']\n",
        "  json_text_cleaned = json_text.strip('```json\\n').strip('\\n``` ')\n",
        "  df.at[i, 'Predictions'] = json_text_cleaned"
      ]
    },
    {
      "cell_type": "code",
      "execution_count": 19,
      "metadata": {
        "id": "0FkzcH0SizOn"
      },
      "outputs": [],
      "source": [
        "for i in range(300,400):\n",
        "  response_json = predict_target_and_stance(df['Tweet'][i])\n",
        "  json_text=response_json['candidates'][0]['content']['parts'][0]['text']\n",
        "  json_text_cleaned = json_text.strip('```json\\n').strip('\\n``` ')\n",
        "  df.at[i, 'Predictions'] = json_text_cleaned"
      ]
    },
    {
      "cell_type": "code",
      "execution_count": 20,
      "metadata": {
        "id": "CoutHpZ9i2i3"
      },
      "outputs": [],
      "source": [
        "for i in range(400,500):\n",
        "  response_json = predict_target_and_stance(df['Tweet'][i])\n",
        "  json_text=response_json['candidates'][0]['content']['parts'][0]['text']\n",
        "  json_text_cleaned = json_text.strip('```json\\n').strip('\\n``` ')\n",
        "  df.at[i, 'Predictions'] = json_text_cleaned"
      ]
    },
    {
      "cell_type": "code",
      "execution_count": 22,
      "metadata": {
        "id": "HJJuOSFIi4QD"
      },
      "outputs": [],
      "source": [
        "for i in range(500,600):\n",
        "  response_json = predict_target_and_stance(df['Tweet'][i])\n",
        "  json_text=response_json['candidates'][0]['content']['parts'][0]['text']\n",
        "  json_text_cleaned = json_text.strip('```json\\n').strip('\\n``` ')\n",
        "  df.at[i, 'Predictions'] = json_text_cleaned"
      ]
    },
    {
      "cell_type": "code",
      "execution_count": 25,
      "metadata": {
        "id": "5qL-5sEei57A"
      },
      "outputs": [],
      "source": [
        "for i in range(600,700):\n",
        "  response_json = predict_target_and_stance(df['Tweet'][i])\n",
        "  json_text=response_json['candidates'][0]['content']['parts'][0]['text']\n",
        "  json_text_cleaned = json_text.strip('```json\\n').strip('\\n``` ')\n",
        "  df.at[i, 'Predictions'] = json_text_cleaned"
      ]
    },
    {
      "cell_type": "code",
      "execution_count": 26,
      "metadata": {
        "id": "-4wn2GXgi7cR"
      },
      "outputs": [],
      "source": [
        "for i in range(700,800):\n",
        "  response_json = predict_target_and_stance(df['Tweet'][i])\n",
        "  json_text=response_json['candidates'][0]['content']['parts'][0]['text']\n",
        "  json_text_cleaned = json_text.strip('```json\\n').strip('\\n``` ')\n",
        "  df.at[i, 'Predictions'] = json_text_cleaned"
      ]
    },
    {
      "cell_type": "code",
      "execution_count": 27,
      "metadata": {
        "id": "6ZqTcuvji86r"
      },
      "outputs": [],
      "source": [
        "for i in range(800,900):\n",
        "  response_json = predict_target_and_stance(df['Tweet'][i])\n",
        "  json_text=response_json['candidates'][0]['content']['parts'][0]['text']\n",
        "  json_text_cleaned = json_text.strip('```json\\n').strip('\\n``` ')\n",
        "  df.at[i, 'Predictions'] = json_text_cleaned"
      ]
    },
    {
      "cell_type": "code",
      "execution_count": 30,
      "metadata": {
        "id": "axyyoPRHjO52"
      },
      "outputs": [],
      "source": [
        "for i in range(900,1000):\n",
        "  response_json = predict_target_and_stance(df['Tweet'][i])\n",
        "  json_text=response_json['candidates'][0]['content']['parts'][0]['text']\n",
        "  json_text_cleaned = json_text.strip('```json\\n').strip('\\n``` ')\n",
        "  df.at[i, 'Predictions'] = json_text_cleaned"
      ]
    },
    {
      "cell_type": "code",
      "execution_count": 31,
      "metadata": {
        "id": "oCoKrGcsjSw0"
      },
      "outputs": [],
      "source": [
        "for i in range(1000,1100):\n",
        "  response_json = predict_target_and_stance(df['Tweet'][i])\n",
        "  json_text=response_json['candidates'][0]['content']['parts'][0]['text']\n",
        "  json_text_cleaned = json_text.strip('```json\\n').strip('\\n``` ')\n",
        "  df.at[i, 'Predictions'] = json_text_cleaned"
      ]
    },
    {
      "cell_type": "code",
      "execution_count": 33,
      "metadata": {
        "id": "Nmqeu6GOjUYg"
      },
      "outputs": [],
      "source": [
        "for i in range(1200,1300):\n",
        "  response_json = predict_target_and_stance(df['Tweet'][i])\n",
        "  json_text=response_json['candidates'][0]['content']['parts'][0]['text']\n",
        "  json_text_cleaned = json_text.strip('```json\\n').strip('\\n``` ')\n",
        "  df.at[i, 'Predictions'] = json_text_cleaned"
      ]
    },
    {
      "cell_type": "code",
      "execution_count": 34,
      "metadata": {
        "id": "UDv0d0bJjWB-"
      },
      "outputs": [],
      "source": [
        "for i in range(1300,1400):\n",
        "  response_json = predict_target_and_stance(df['Tweet'][i])\n",
        "  json_text=response_json['candidates'][0]['content']['parts'][0]['text']\n",
        "  json_text_cleaned = json_text.strip('```json\\n').strip('\\n``` ')\n",
        "  df.at[i, 'Predictions'] = json_text_cleaned"
      ]
    },
    {
      "cell_type": "code",
      "execution_count": 36,
      "metadata": {
        "id": "dxKtr0YwjXjR"
      },
      "outputs": [],
      "source": [
        "for i in range(1400,1500):\n",
        "  response_json = predict_target_and_stance(df['Tweet'][i])\n",
        "  json_text=response_json['candidates'][0]['content']['parts'][0]['text']\n",
        "  json_text_cleaned = json_text.strip('```json\\n').strip('\\n``` ')\n",
        "  df.at[i, 'Predictions'] = json_text_cleaned"
      ]
    },
    {
      "cell_type": "code",
      "execution_count": 38,
      "metadata": {
        "id": "3MOXSYxujmu4"
      },
      "outputs": [],
      "source": [
        "for i in range(1500,1600):\n",
        "  response_json = predict_target_and_stance(df['Tweet'][i])\n",
        "  json_text=response_json['candidates'][0]['content']['parts'][0]['text']\n",
        "  json_text_cleaned = json_text.strip('```json\\n').strip('\\n``` ')\n",
        "  df.at[i, 'Predictions'] = json_text_cleaned"
      ]
    },
    {
      "cell_type": "code",
      "source": [],
      "metadata": {
        "id": "jJFcldYf1Bru"
      },
      "execution_count": null,
      "outputs": []
    },
    {
      "cell_type": "code",
      "execution_count": 50,
      "metadata": {
        "id": "ayw7WJe5FJMX"
      },
      "outputs": [],
      "source": [
        "phrases_to_remove = ['gun control']\n",
        "\n",
        "# Remove the specified phrases from the text\n",
        "for i in range(len(df)):\n",
        "    p = df.loc[i, 'Predictions']\n",
        "    if p is not None:  # Check if p is not None before applying replace\n",
        "        for phrase in phrases_to_remove:\n",
        "            p = p.replace(phrase, '').strip()\n",
        "        df.at[i, 'Predictions'] = p # Update the DataFrame"
      ]
    },
    {
      "cell_type": "code",
      "execution_count": null,
      "metadata": {
        "id": "zq6v_vvliY1m"
      },
      "outputs": [],
      "source": []
    },
    {
      "cell_type": "code",
      "execution_count": 52,
      "metadata": {
        "colab": {
          "base_uri": "https://localhost:8080/",
          "height": 554
        },
        "id": "PZP6i2MiGDLv",
        "outputId": "129516af-c589-4106-e883-738d1f9e50f5"
      },
      "outputs": [
        {
          "output_type": "execute_result",
          "data": {
            "text/plain": [
              "     Unnamed: 0.1  Unnamed: 0  \\\n",
              "320         45758       45759   \n",
              "321         45759       45760   \n",
              "322         45760       45761   \n",
              "323         45761       45762   \n",
              "324         45762       45763   \n",
              "325         45763       45764   \n",
              "326         45764       45765   \n",
              "327         45765       45766   \n",
              "328         45766       45767   \n",
              "329         45767       45768   \n",
              "\n",
              "                                                 Tweet         Target  \\\n",
              "320  whether it should be carried out or not has be...  death penalty   \n",
              "321  no civilian s job description should include k...  death penalty   \n",
              "322  granted we are not able to ask the dead whethe...  death penalty   \n",
              "323                              this system is broken  death penalty   \n",
              "324  pro simply because an execution method may res...  death penalty   \n",
              "325  if improvements are needed in the system of re...  death penalty   \n",
              "326  scholars psychologists activists all pour into...  death penalty   \n",
              "327  t he claim that t his sentence rests on the ir...  death penalty   \n",
              "328  death is an experience that can not be experie...  death penalty   \n",
              "329  murder always tragic seems to be a more heinou...  death penalty   \n",
              "\n",
              "      Stance  ID  Target_ID                 Predictions  \n",
              "320     NONE   9         10                              \n",
              "321  AGAINST   9         10                              \n",
              "322    FAVOR   9         10  death penaltydeath penalty  \n",
              "323     NONE   9         10                              \n",
              "324    FAVOR   9         10  death penaltydeath penalty  \n",
              "325     NONE   9         10                              \n",
              "326     NONE   9         10  death penaltydeath penalty  \n",
              "327     NONE   9         10                              \n",
              "328     NONE   9         10  death penaltydeath penalty  \n",
              "329     NONE   9         10                 gunclontrol  "
            ],
            "text/html": [
              "\n",
              "  <div id=\"df-e3e56697-1ad4-4565-b164-00f5bd4d6060\" class=\"colab-df-container\">\n",
              "    <div>\n",
              "<style scoped>\n",
              "    .dataframe tbody tr th:only-of-type {\n",
              "        vertical-align: middle;\n",
              "    }\n",
              "\n",
              "    .dataframe tbody tr th {\n",
              "        vertical-align: top;\n",
              "    }\n",
              "\n",
              "    .dataframe thead th {\n",
              "        text-align: right;\n",
              "    }\n",
              "</style>\n",
              "<table border=\"1\" class=\"dataframe\">\n",
              "  <thead>\n",
              "    <tr style=\"text-align: right;\">\n",
              "      <th></th>\n",
              "      <th>Unnamed: 0.1</th>\n",
              "      <th>Unnamed: 0</th>\n",
              "      <th>Tweet</th>\n",
              "      <th>Target</th>\n",
              "      <th>Stance</th>\n",
              "      <th>ID</th>\n",
              "      <th>Target_ID</th>\n",
              "      <th>Predictions</th>\n",
              "    </tr>\n",
              "  </thead>\n",
              "  <tbody>\n",
              "    <tr>\n",
              "      <th>320</th>\n",
              "      <td>45758</td>\n",
              "      <td>45759</td>\n",
              "      <td>whether it should be carried out or not has be...</td>\n",
              "      <td>death penalty</td>\n",
              "      <td>NONE</td>\n",
              "      <td>9</td>\n",
              "      <td>10</td>\n",
              "      <td></td>\n",
              "    </tr>\n",
              "    <tr>\n",
              "      <th>321</th>\n",
              "      <td>45759</td>\n",
              "      <td>45760</td>\n",
              "      <td>no civilian s job description should include k...</td>\n",
              "      <td>death penalty</td>\n",
              "      <td>AGAINST</td>\n",
              "      <td>9</td>\n",
              "      <td>10</td>\n",
              "      <td></td>\n",
              "    </tr>\n",
              "    <tr>\n",
              "      <th>322</th>\n",
              "      <td>45760</td>\n",
              "      <td>45761</td>\n",
              "      <td>granted we are not able to ask the dead whethe...</td>\n",
              "      <td>death penalty</td>\n",
              "      <td>FAVOR</td>\n",
              "      <td>9</td>\n",
              "      <td>10</td>\n",
              "      <td>death penaltydeath penalty</td>\n",
              "    </tr>\n",
              "    <tr>\n",
              "      <th>323</th>\n",
              "      <td>45761</td>\n",
              "      <td>45762</td>\n",
              "      <td>this system is broken</td>\n",
              "      <td>death penalty</td>\n",
              "      <td>NONE</td>\n",
              "      <td>9</td>\n",
              "      <td>10</td>\n",
              "      <td></td>\n",
              "    </tr>\n",
              "    <tr>\n",
              "      <th>324</th>\n",
              "      <td>45762</td>\n",
              "      <td>45763</td>\n",
              "      <td>pro simply because an execution method may res...</td>\n",
              "      <td>death penalty</td>\n",
              "      <td>FAVOR</td>\n",
              "      <td>9</td>\n",
              "      <td>10</td>\n",
              "      <td>death penaltydeath penalty</td>\n",
              "    </tr>\n",
              "    <tr>\n",
              "      <th>325</th>\n",
              "      <td>45763</td>\n",
              "      <td>45764</td>\n",
              "      <td>if improvements are needed in the system of re...</td>\n",
              "      <td>death penalty</td>\n",
              "      <td>NONE</td>\n",
              "      <td>9</td>\n",
              "      <td>10</td>\n",
              "      <td></td>\n",
              "    </tr>\n",
              "    <tr>\n",
              "      <th>326</th>\n",
              "      <td>45764</td>\n",
              "      <td>45765</td>\n",
              "      <td>scholars psychologists activists all pour into...</td>\n",
              "      <td>death penalty</td>\n",
              "      <td>NONE</td>\n",
              "      <td>9</td>\n",
              "      <td>10</td>\n",
              "      <td>death penaltydeath penalty</td>\n",
              "    </tr>\n",
              "    <tr>\n",
              "      <th>327</th>\n",
              "      <td>45765</td>\n",
              "      <td>45766</td>\n",
              "      <td>t he claim that t his sentence rests on the ir...</td>\n",
              "      <td>death penalty</td>\n",
              "      <td>NONE</td>\n",
              "      <td>9</td>\n",
              "      <td>10</td>\n",
              "      <td></td>\n",
              "    </tr>\n",
              "    <tr>\n",
              "      <th>328</th>\n",
              "      <td>45766</td>\n",
              "      <td>45767</td>\n",
              "      <td>death is an experience that can not be experie...</td>\n",
              "      <td>death penalty</td>\n",
              "      <td>NONE</td>\n",
              "      <td>9</td>\n",
              "      <td>10</td>\n",
              "      <td>death penaltydeath penalty</td>\n",
              "    </tr>\n",
              "    <tr>\n",
              "      <th>329</th>\n",
              "      <td>45767</td>\n",
              "      <td>45768</td>\n",
              "      <td>murder always tragic seems to be a more heinou...</td>\n",
              "      <td>death penalty</td>\n",
              "      <td>NONE</td>\n",
              "      <td>9</td>\n",
              "      <td>10</td>\n",
              "      <td>gunclontrol</td>\n",
              "    </tr>\n",
              "  </tbody>\n",
              "</table>\n",
              "</div>\n",
              "    <div class=\"colab-df-buttons\">\n",
              "\n",
              "  <div class=\"colab-df-container\">\n",
              "    <button class=\"colab-df-convert\" onclick=\"convertToInteractive('df-e3e56697-1ad4-4565-b164-00f5bd4d6060')\"\n",
              "            title=\"Convert this dataframe to an interactive table.\"\n",
              "            style=\"display:none;\">\n",
              "\n",
              "  <svg xmlns=\"http://www.w3.org/2000/svg\" height=\"24px\" viewBox=\"0 -960 960 960\">\n",
              "    <path d=\"M120-120v-720h720v720H120Zm60-500h600v-160H180v160Zm220 220h160v-160H400v160Zm0 220h160v-160H400v160ZM180-400h160v-160H180v160Zm440 0h160v-160H620v160ZM180-180h160v-160H180v160Zm440 0h160v-160H620v160Z\"/>\n",
              "  </svg>\n",
              "    </button>\n",
              "\n",
              "  <style>\n",
              "    .colab-df-container {\n",
              "      display:flex;\n",
              "      gap: 12px;\n",
              "    }\n",
              "\n",
              "    .colab-df-convert {\n",
              "      background-color: #E8F0FE;\n",
              "      border: none;\n",
              "      border-radius: 50%;\n",
              "      cursor: pointer;\n",
              "      display: none;\n",
              "      fill: #1967D2;\n",
              "      height: 32px;\n",
              "      padding: 0 0 0 0;\n",
              "      width: 32px;\n",
              "    }\n",
              "\n",
              "    .colab-df-convert:hover {\n",
              "      background-color: #E2EBFA;\n",
              "      box-shadow: 0px 1px 2px rgba(60, 64, 67, 0.3), 0px 1px 3px 1px rgba(60, 64, 67, 0.15);\n",
              "      fill: #174EA6;\n",
              "    }\n",
              "\n",
              "    .colab-df-buttons div {\n",
              "      margin-bottom: 4px;\n",
              "    }\n",
              "\n",
              "    [theme=dark] .colab-df-convert {\n",
              "      background-color: #3B4455;\n",
              "      fill: #D2E3FC;\n",
              "    }\n",
              "\n",
              "    [theme=dark] .colab-df-convert:hover {\n",
              "      background-color: #434B5C;\n",
              "      box-shadow: 0px 1px 3px 1px rgba(0, 0, 0, 0.15);\n",
              "      filter: drop-shadow(0px 1px 2px rgba(0, 0, 0, 0.3));\n",
              "      fill: #FFFFFF;\n",
              "    }\n",
              "  </style>\n",
              "\n",
              "    <script>\n",
              "      const buttonEl =\n",
              "        document.querySelector('#df-e3e56697-1ad4-4565-b164-00f5bd4d6060 button.colab-df-convert');\n",
              "      buttonEl.style.display =\n",
              "        google.colab.kernel.accessAllowed ? 'block' : 'none';\n",
              "\n",
              "      async function convertToInteractive(key) {\n",
              "        const element = document.querySelector('#df-e3e56697-1ad4-4565-b164-00f5bd4d6060');\n",
              "        const dataTable =\n",
              "          await google.colab.kernel.invokeFunction('convertToInteractive',\n",
              "                                                    [key], {});\n",
              "        if (!dataTable) return;\n",
              "\n",
              "        const docLinkHtml = 'Like what you see? Visit the ' +\n",
              "          '<a target=\"_blank\" href=https://colab.research.google.com/notebooks/data_table.ipynb>data table notebook</a>'\n",
              "          + ' to learn more about interactive tables.';\n",
              "        element.innerHTML = '';\n",
              "        dataTable['output_type'] = 'display_data';\n",
              "        await google.colab.output.renderOutput(dataTable, element);\n",
              "        const docLink = document.createElement('div');\n",
              "        docLink.innerHTML = docLinkHtml;\n",
              "        element.appendChild(docLink);\n",
              "      }\n",
              "    </script>\n",
              "  </div>\n",
              "\n",
              "\n",
              "<div id=\"df-0c8b9f70-aac3-4736-aa85-720368874251\">\n",
              "  <button class=\"colab-df-quickchart\" onclick=\"quickchart('df-0c8b9f70-aac3-4736-aa85-720368874251')\"\n",
              "            title=\"Suggest charts\"\n",
              "            style=\"display:none;\">\n",
              "\n",
              "<svg xmlns=\"http://www.w3.org/2000/svg\" height=\"24px\"viewBox=\"0 0 24 24\"\n",
              "     width=\"24px\">\n",
              "    <g>\n",
              "        <path d=\"M19 3H5c-1.1 0-2 .9-2 2v14c0 1.1.9 2 2 2h14c1.1 0 2-.9 2-2V5c0-1.1-.9-2-2-2zM9 17H7v-7h2v7zm4 0h-2V7h2v10zm4 0h-2v-4h2v4z\"/>\n",
              "    </g>\n",
              "</svg>\n",
              "  </button>\n",
              "\n",
              "<style>\n",
              "  .colab-df-quickchart {\n",
              "      --bg-color: #E8F0FE;\n",
              "      --fill-color: #1967D2;\n",
              "      --hover-bg-color: #E2EBFA;\n",
              "      --hover-fill-color: #174EA6;\n",
              "      --disabled-fill-color: #AAA;\n",
              "      --disabled-bg-color: #DDD;\n",
              "  }\n",
              "\n",
              "  [theme=dark] .colab-df-quickchart {\n",
              "      --bg-color: #3B4455;\n",
              "      --fill-color: #D2E3FC;\n",
              "      --hover-bg-color: #434B5C;\n",
              "      --hover-fill-color: #FFFFFF;\n",
              "      --disabled-bg-color: #3B4455;\n",
              "      --disabled-fill-color: #666;\n",
              "  }\n",
              "\n",
              "  .colab-df-quickchart {\n",
              "    background-color: var(--bg-color);\n",
              "    border: none;\n",
              "    border-radius: 50%;\n",
              "    cursor: pointer;\n",
              "    display: none;\n",
              "    fill: var(--fill-color);\n",
              "    height: 32px;\n",
              "    padding: 0;\n",
              "    width: 32px;\n",
              "  }\n",
              "\n",
              "  .colab-df-quickchart:hover {\n",
              "    background-color: var(--hover-bg-color);\n",
              "    box-shadow: 0 1px 2px rgba(60, 64, 67, 0.3), 0 1px 3px 1px rgba(60, 64, 67, 0.15);\n",
              "    fill: var(--button-hover-fill-color);\n",
              "  }\n",
              "\n",
              "  .colab-df-quickchart-complete:disabled,\n",
              "  .colab-df-quickchart-complete:disabled:hover {\n",
              "    background-color: var(--disabled-bg-color);\n",
              "    fill: var(--disabled-fill-color);\n",
              "    box-shadow: none;\n",
              "  }\n",
              "\n",
              "  .colab-df-spinner {\n",
              "    border: 2px solid var(--fill-color);\n",
              "    border-color: transparent;\n",
              "    border-bottom-color: var(--fill-color);\n",
              "    animation:\n",
              "      spin 1s steps(1) infinite;\n",
              "  }\n",
              "\n",
              "  @keyframes spin {\n",
              "    0% {\n",
              "      border-color: transparent;\n",
              "      border-bottom-color: var(--fill-color);\n",
              "      border-left-color: var(--fill-color);\n",
              "    }\n",
              "    20% {\n",
              "      border-color: transparent;\n",
              "      border-left-color: var(--fill-color);\n",
              "      border-top-color: var(--fill-color);\n",
              "    }\n",
              "    30% {\n",
              "      border-color: transparent;\n",
              "      border-left-color: var(--fill-color);\n",
              "      border-top-color: var(--fill-color);\n",
              "      border-right-color: var(--fill-color);\n",
              "    }\n",
              "    40% {\n",
              "      border-color: transparent;\n",
              "      border-right-color: var(--fill-color);\n",
              "      border-top-color: var(--fill-color);\n",
              "    }\n",
              "    60% {\n",
              "      border-color: transparent;\n",
              "      border-right-color: var(--fill-color);\n",
              "    }\n",
              "    80% {\n",
              "      border-color: transparent;\n",
              "      border-right-color: var(--fill-color);\n",
              "      border-bottom-color: var(--fill-color);\n",
              "    }\n",
              "    90% {\n",
              "      border-color: transparent;\n",
              "      border-bottom-color: var(--fill-color);\n",
              "    }\n",
              "  }\n",
              "</style>\n",
              "\n",
              "  <script>\n",
              "    async function quickchart(key) {\n",
              "      const quickchartButtonEl =\n",
              "        document.querySelector('#' + key + ' button');\n",
              "      quickchartButtonEl.disabled = true;  // To prevent multiple clicks.\n",
              "      quickchartButtonEl.classList.add('colab-df-spinner');\n",
              "      try {\n",
              "        const charts = await google.colab.kernel.invokeFunction(\n",
              "            'suggestCharts', [key], {});\n",
              "      } catch (error) {\n",
              "        console.error('Error during call to suggestCharts:', error);\n",
              "      }\n",
              "      quickchartButtonEl.classList.remove('colab-df-spinner');\n",
              "      quickchartButtonEl.classList.add('colab-df-quickchart-complete');\n",
              "    }\n",
              "    (() => {\n",
              "      let quickchartButtonEl =\n",
              "        document.querySelector('#df-0c8b9f70-aac3-4736-aa85-720368874251 button');\n",
              "      quickchartButtonEl.style.display =\n",
              "        google.colab.kernel.accessAllowed ? 'block' : 'none';\n",
              "    })();\n",
              "  </script>\n",
              "</div>\n",
              "\n",
              "    </div>\n",
              "  </div>\n"
            ],
            "application/vnd.google.colaboratory.intrinsic+json": {
              "type": "dataframe",
              "summary": "{\n  \"name\": \"df[320:330]\",\n  \"rows\": 10,\n  \"fields\": [\n    {\n      \"column\": \"Unnamed: 0.1\",\n      \"properties\": {\n        \"dtype\": \"number\",\n        \"std\": 3,\n        \"min\": 45758,\n        \"max\": 45767,\n        \"num_unique_values\": 10,\n        \"samples\": [\n          45766,\n          45759,\n          45763\n        ],\n        \"semantic_type\": \"\",\n        \"description\": \"\"\n      }\n    },\n    {\n      \"column\": \"Unnamed: 0\",\n      \"properties\": {\n        \"dtype\": \"number\",\n        \"std\": 3,\n        \"min\": 45759,\n        \"max\": 45768,\n        \"num_unique_values\": 10,\n        \"samples\": [\n          45767,\n          45760,\n          45764\n        ],\n        \"semantic_type\": \"\",\n        \"description\": \"\"\n      }\n    },\n    {\n      \"column\": \"Tweet\",\n      \"properties\": {\n        \"dtype\": \"string\",\n        \"num_unique_values\": 10,\n        \"samples\": [\n          \"death is an experience that can not be experienced and ends all experience\",\n          \"no civilian s job description should include killing another person\",\n          \"if improvements are needed in the system of representation or in the use of scientific evidence such as dna testing then those reforms should be instituted\"\n        ],\n        \"semantic_type\": \"\",\n        \"description\": \"\"\n      }\n    },\n    {\n      \"column\": \"Target\",\n      \"properties\": {\n        \"dtype\": \"category\",\n        \"num_unique_values\": 1,\n        \"samples\": [\n          \"death penalty\"\n        ],\n        \"semantic_type\": \"\",\n        \"description\": \"\"\n      }\n    },\n    {\n      \"column\": \"Stance\",\n      \"properties\": {\n        \"dtype\": \"category\",\n        \"num_unique_values\": 3,\n        \"samples\": [\n          \"NONE\"\n        ],\n        \"semantic_type\": \"\",\n        \"description\": \"\"\n      }\n    },\n    {\n      \"column\": \"ID\",\n      \"properties\": {\n        \"dtype\": \"number\",\n        \"std\": 0,\n        \"min\": 9,\n        \"max\": 9,\n        \"num_unique_values\": 1,\n        \"samples\": [\n          9\n        ],\n        \"semantic_type\": \"\",\n        \"description\": \"\"\n      }\n    },\n    {\n      \"column\": \"Target_ID\",\n      \"properties\": {\n        \"dtype\": \"number\",\n        \"std\": 0,\n        \"min\": 10,\n        \"max\": 10,\n        \"num_unique_values\": 1,\n        \"samples\": [\n          10\n        ],\n        \"semantic_type\": \"\",\n        \"description\": \"\"\n      }\n    },\n    {\n      \"column\": \"Predictions\",\n      \"properties\": {\n        \"dtype\": \"category\",\n        \"num_unique_values\": 3,\n        \"samples\": [\n          \"\"\n        ],\n        \"semantic_type\": \"\",\n        \"description\": \"\"\n      }\n    }\n  ]\n}"
            }
          },
          "metadata": {},
          "execution_count": 52
        }
      ],
      "source": [
        "df[30:330]"
      ]
    },
    {
      "cell_type": "code",
      "execution_count": 54,
      "metadata": {
        "colab": {
          "base_uri": "https://localhost:8080/"
        },
        "id": "8BNC5jTzTYfy",
        "outputId": "15350295-b2c3-417a-dd73-e5fccbdad1bc"
      },
      "outputs": [
        {
          "output_type": "stream",
          "name": "stdout",
          "text": [
            "Target Accuracy: 0.42\n",
            "Target Classification Report:\n",
            "                                                                                                                                precision    recall  f1-score   support\n",
            "\n",
            "                                                                                                                                     0.00      0.00      0.00         0\n",
            "Genetically Modified Organisms (GMOs)cloningminimum wagemarijuana legalizationabortionminimum wagemarijuana legalizationaborti       0.00      0.00      0.00         0\n",
            "                                                                                                                      abortion       0.00      0.00      0.00         0\n",
            "                                                                                                                       cloning       1.00      0.88      0.93        96\n",
            "                                                                                                             cloningguncloning       0.00      0.00      0.00         0\n",
            "                                                                                                             cloningguncontrol       0.00      0.00      0.00         0\n",
            "                                                                               cloningminimum wagemarijuana legalizationaborti       0.00      0.00      0.00         0\n",
            "                                                                                                                 death penalty       0.00      0.00      0.00       104\n",
            "                                                                                                       gunmarijuana legalizati       0.00      0.00      0.00         0\n",
            "                                                                                                          marijuana legalizati       0.00      0.00      0.00         0\n",
            "                                                                                      minimum wagemarijuana legalizationaborti       0.00      0.00      0.00         0\n",
            "\n",
            "                                                                                                                      accuracy                           0.42       200\n",
            "                                                                                                                     macro avg       0.09      0.08      0.08       200\n",
            "                                                                                                                  weighted avg       0.48      0.42      0.45       200\n",
            "\n"
          ]
        },
        {
          "output_type": "stream",
          "name": "stderr",
          "text": [
            "/usr/local/lib/python3.10/dist-packages/sklearn/metrics/_classification.py:1471: UndefinedMetricWarning: Precision and F-score are ill-defined and being set to 0.0 in labels with no predicted samples. Use `zero_division` parameter to control this behavior.\n",
            "  _warn_prf(average, modifier, msg_start, len(result))\n",
            "/usr/local/lib/python3.10/dist-packages/sklearn/metrics/_classification.py:1471: UndefinedMetricWarning: Recall and F-score are ill-defined and being set to 0.0 in labels with no true samples. Use `zero_division` parameter to control this behavior.\n",
            "  _warn_prf(average, modifier, msg_start, len(result))\n",
            "/usr/local/lib/python3.10/dist-packages/sklearn/metrics/_classification.py:1471: UndefinedMetricWarning: Precision and F-score are ill-defined and being set to 0.0 in labels with no predicted samples. Use `zero_division` parameter to control this behavior.\n",
            "  _warn_prf(average, modifier, msg_start, len(result))\n",
            "/usr/local/lib/python3.10/dist-packages/sklearn/metrics/_classification.py:1471: UndefinedMetricWarning: Recall and F-score are ill-defined and being set to 0.0 in labels with no true samples. Use `zero_division` parameter to control this behavior.\n",
            "  _warn_prf(average, modifier, msg_start, len(result))\n",
            "/usr/local/lib/python3.10/dist-packages/sklearn/metrics/_classification.py:1471: UndefinedMetricWarning: Precision and F-score are ill-defined and being set to 0.0 in labels with no predicted samples. Use `zero_division` parameter to control this behavior.\n",
            "  _warn_prf(average, modifier, msg_start, len(result))\n",
            "/usr/local/lib/python3.10/dist-packages/sklearn/metrics/_classification.py:1471: UndefinedMetricWarning: Recall and F-score are ill-defined and being set to 0.0 in labels with no true samples. Use `zero_division` parameter to control this behavior.\n",
            "  _warn_prf(average, modifier, msg_start, len(result))\n"
          ]
        }
      ],
      "source": [
        "\n",
        "from sklearn.metrics import accuracy_score, classification_report\n",
        "\n",
        "# Assuming you want to evaluate on the first 200 samples\n",
        "target_accuracy = accuracy_score(df['Target'][:200], df['Predictions'][:200]) # Use 'Predictions' column from df\n",
        "target_classification_report = classification_report(df['Target'][:200], df['Predictions'][:200])\n",
        "\n",
        "print(f\"Target Accuracy: {target_accuracy}\")\n",
        "print(\"Target Classification Report:\")\n",
        "print(target_classification_report)"
      ]
    },
    {
      "cell_type": "code",
      "execution_count": null,
      "metadata": {
        "id": "Y7aYHkwKTjAS"
      },
      "outputs": [],
      "source": [
        "import pandas as pd\n",
        "import seaborn as sns\n",
        "\n",
        "model = operation.result()\n",
        "\n",
        "snapshots = pd.DataFrame(model.tuning_task.snapshots)\n",
        "\n",
        "sns.lineplot(data=snapshots, x = 'epoch', y='mean_loss')"
      ]
    }
  ],
  "metadata": {
    "colab": {
      "provenance": [],
      "authorship_tag": "ABX9TyMHibtEd3JkjL5qWmhoZ12g",
      "include_colab_link": true
    },
    "kernelspec": {
      "display_name": "Python 3",
      "name": "python3"
    },
    "language_info": {
      "name": "python"
    },
    "widgets": {
      "application/vnd.jupyter.widget-state+json": {
        "01e29e0eb49c45f3bb42881751c9e066": {
          "model_module": "@jupyter-widgets/controls",
          "model_module_version": "1.5.0",
          "model_name": "HTMLModel",
          "state": {
            "_dom_classes": [],
            "_model_module": "@jupyter-widgets/controls",
            "_model_module_version": "1.5.0",
            "_model_name": "HTMLModel",
            "_view_count": null,
            "_view_module": "@jupyter-widgets/controls",
            "_view_module_version": "1.5.0",
            "_view_name": "HTMLView",
            "description": "",
            "description_tooltip": null,
            "layout": "IPY_MODEL_35f62250e3a64f71834aea698ccf159a",
            "placeholder": "​",
            "style": "IPY_MODEL_0cd77af7c0274e3e85e4c31735e099de",
            "value": "100%"
          }
        },
        "0cd77af7c0274e3e85e4c31735e099de": {
          "model_module": "@jupyter-widgets/controls",
          "model_module_version": "1.5.0",
          "model_name": "DescriptionStyleModel",
          "state": {
            "_model_module": "@jupyter-widgets/controls",
            "_model_module_version": "1.5.0",
            "_model_name": "DescriptionStyleModel",
            "_view_count": null,
            "_view_module": "@jupyter-widgets/base",
            "_view_module_version": "1.2.0",
            "_view_name": "StyleView",
            "description_width": ""
          }
        },
        "23cc064d335644d7a1bd5f111e37b1f6": {
          "model_module": "@jupyter-widgets/base",
          "model_module_version": "1.2.0",
          "model_name": "LayoutModel",
          "state": {
            "_model_module": "@jupyter-widgets/base",
            "_model_module_version": "1.2.0",
            "_model_name": "LayoutModel",
            "_view_count": null,
            "_view_module": "@jupyter-widgets/base",
            "_view_module_version": "1.2.0",
            "_view_name": "LayoutView",
            "align_content": null,
            "align_items": null,
            "align_self": null,
            "border": null,
            "bottom": null,
            "display": null,
            "flex": null,
            "flex_flow": null,
            "grid_area": null,
            "grid_auto_columns": null,
            "grid_auto_flow": null,
            "grid_auto_rows": null,
            "grid_column": null,
            "grid_gap": null,
            "grid_row": null,
            "grid_template_areas": null,
            "grid_template_columns": null,
            "grid_template_rows": null,
            "height": null,
            "justify_content": null,
            "justify_items": null,
            "left": null,
            "margin": null,
            "max_height": null,
            "max_width": null,
            "min_height": null,
            "min_width": null,
            "object_fit": null,
            "object_position": null,
            "order": null,
            "overflow": null,
            "overflow_x": null,
            "overflow_y": null,
            "padding": null,
            "right": null,
            "top": null,
            "visibility": null,
            "width": null
          }
        },
        "35f62250e3a64f71834aea698ccf159a": {
          "model_module": "@jupyter-widgets/base",
          "model_module_version": "1.2.0",
          "model_name": "LayoutModel",
          "state": {
            "_model_module": "@jupyter-widgets/base",
            "_model_module_version": "1.2.0",
            "_model_name": "LayoutModel",
            "_view_count": null,
            "_view_module": "@jupyter-widgets/base",
            "_view_module_version": "1.2.0",
            "_view_name": "LayoutView",
            "align_content": null,
            "align_items": null,
            "align_self": null,
            "border": null,
            "bottom": null,
            "display": null,
            "flex": null,
            "flex_flow": null,
            "grid_area": null,
            "grid_auto_columns": null,
            "grid_auto_flow": null,
            "grid_auto_rows": null,
            "grid_column": null,
            "grid_gap": null,
            "grid_row": null,
            "grid_template_areas": null,
            "grid_template_columns": null,
            "grid_template_rows": null,
            "height": null,
            "justify_content": null,
            "justify_items": null,
            "left": null,
            "margin": null,
            "max_height": null,
            "max_width": null,
            "min_height": null,
            "min_width": null,
            "object_fit": null,
            "object_position": null,
            "order": null,
            "overflow": null,
            "overflow_x": null,
            "overflow_y": null,
            "padding": null,
            "right": null,
            "top": null,
            "visibility": null,
            "width": null
          }
        },
        "4d59e3d85a9e49268e9259509a9bd5e8": {
          "model_module": "@jupyter-widgets/base",
          "model_module_version": "1.2.0",
          "model_name": "LayoutModel",
          "state": {
            "_model_module": "@jupyter-widgets/base",
            "_model_module_version": "1.2.0",
            "_model_name": "LayoutModel",
            "_view_count": null,
            "_view_module": "@jupyter-widgets/base",
            "_view_module_version": "1.2.0",
            "_view_name": "LayoutView",
            "align_content": null,
            "align_items": null,
            "align_self": null,
            "border": null,
            "bottom": null,
            "display": null,
            "flex": null,
            "flex_flow": null,
            "grid_area": null,
            "grid_auto_columns": null,
            "grid_auto_flow": null,
            "grid_auto_rows": null,
            "grid_column": null,
            "grid_gap": null,
            "grid_row": null,
            "grid_template_areas": null,
            "grid_template_columns": null,
            "grid_template_rows": null,
            "height": null,
            "justify_content": null,
            "justify_items": null,
            "left": null,
            "margin": null,
            "max_height": null,
            "max_width": null,
            "min_height": null,
            "min_width": null,
            "object_fit": null,
            "object_position": null,
            "order": null,
            "overflow": null,
            "overflow_x": null,
            "overflow_y": null,
            "padding": null,
            "right": null,
            "top": null,
            "visibility": null,
            "width": null
          }
        },
        "58991618ff1d4dfd8bf0c6a28a51e01d": {
          "model_module": "@jupyter-widgets/controls",
          "model_module_version": "1.5.0",
          "model_name": "DescriptionStyleModel",
          "state": {
            "_model_module": "@jupyter-widgets/controls",
            "_model_module_version": "1.5.0",
            "_model_name": "DescriptionStyleModel",
            "_view_count": null,
            "_view_module": "@jupyter-widgets/base",
            "_view_module_version": "1.2.0",
            "_view_name": "StyleView",
            "description_width": ""
          }
        },
        "5f7d51d1dd6a4e30b2ee22e251437310": {
          "model_module": "@jupyter-widgets/controls",
          "model_module_version": "1.5.0",
          "model_name": "ProgressStyleModel",
          "state": {
            "_model_module": "@jupyter-widgets/controls",
            "_model_module_version": "1.5.0",
            "_model_name": "ProgressStyleModel",
            "_view_count": null,
            "_view_module": "@jupyter-widgets/base",
            "_view_module_version": "1.2.0",
            "_view_name": "StyleView",
            "bar_color": null,
            "description_width": ""
          }
        },
        "90dfa0e30f3c47c5b21558b2f3a4ee1c": {
          "model_module": "@jupyter-widgets/controls",
          "model_module_version": "1.5.0",
          "model_name": "FloatProgressModel",
          "state": {
            "_dom_classes": [],
            "_model_module": "@jupyter-widgets/controls",
            "_model_module_version": "1.5.0",
            "_model_name": "FloatProgressModel",
            "_view_count": null,
            "_view_module": "@jupyter-widgets/controls",
            "_view_module_version": "1.5.0",
            "_view_name": "ProgressView",
            "bar_style": "success",
            "description": "",
            "description_tooltip": null,
            "layout": "IPY_MODEL_23cc064d335644d7a1bd5f111e37b1f6",
            "max": 150,
            "min": 0,
            "orientation": "horizontal",
            "style": "IPY_MODEL_5f7d51d1dd6a4e30b2ee22e251437310",
            "value": 150
          }
        },
        "9780a821fd6a4517a62b5eab96af7fee": {
          "model_module": "@jupyter-widgets/controls",
          "model_module_version": "1.5.0",
          "model_name": "HTMLModel",
          "state": {
            "_dom_classes": [],
            "_model_module": "@jupyter-widgets/controls",
            "_model_module_version": "1.5.0",
            "_model_name": "HTMLModel",
            "_view_count": null,
            "_view_module": "@jupyter-widgets/controls",
            "_view_module_version": "1.5.0",
            "_view_name": "HTMLView",
            "description": "",
            "description_tooltip": null,
            "layout": "IPY_MODEL_4d59e3d85a9e49268e9259509a9bd5e8",
            "placeholder": "​",
            "style": "IPY_MODEL_58991618ff1d4dfd8bf0c6a28a51e01d",
            "value": " 150/150 [33:39&lt;00:00,  6.87s/it]"
          }
        },
        "c33ca50ce44b4311acaffbca9f2a2e1b": {
          "model_module": "@jupyter-widgets/controls",
          "model_module_version": "1.5.0",
          "model_name": "HBoxModel",
          "state": {
            "_dom_classes": [],
            "_model_module": "@jupyter-widgets/controls",
            "_model_module_version": "1.5.0",
            "_model_name": "HBoxModel",
            "_view_count": null,
            "_view_module": "@jupyter-widgets/controls",
            "_view_module_version": "1.5.0",
            "_view_name": "HBoxView",
            "box_style": "",
            "children": [
              "IPY_MODEL_01e29e0eb49c45f3bb42881751c9e066",
              "IPY_MODEL_90dfa0e30f3c47c5b21558b2f3a4ee1c",
              "IPY_MODEL_9780a821fd6a4517a62b5eab96af7fee"
            ],
            "layout": "IPY_MODEL_eef15bbaf05e4bcf87ad7d6f01e71e23"
          }
        },
        "eef15bbaf05e4bcf87ad7d6f01e71e23": {
          "model_module": "@jupyter-widgets/base",
          "model_module_version": "1.2.0",
          "model_name": "LayoutModel",
          "state": {
            "_model_module": "@jupyter-widgets/base",
            "_model_module_version": "1.2.0",
            "_model_name": "LayoutModel",
            "_view_count": null,
            "_view_module": "@jupyter-widgets/base",
            "_view_module_version": "1.2.0",
            "_view_name": "LayoutView",
            "align_content": null,
            "align_items": null,
            "align_self": null,
            "border": null,
            "bottom": null,
            "display": null,
            "flex": null,
            "flex_flow": null,
            "grid_area": null,
            "grid_auto_columns": null,
            "grid_auto_flow": null,
            "grid_auto_rows": null,
            "grid_column": null,
            "grid_gap": null,
            "grid_row": null,
            "grid_template_areas": null,
            "grid_template_columns": null,
            "grid_template_rows": null,
            "height": null,
            "justify_content": null,
            "justify_items": null,
            "left": null,
            "margin": null,
            "max_height": null,
            "max_width": null,
            "min_height": null,
            "min_width": null,
            "object_fit": null,
            "object_position": null,
            "order": null,
            "overflow": null,
            "overflow_x": null,
            "overflow_y": null,
            "padding": null,
            "right": null,
            "top": null,
            "visibility": null,
            "width": null
          }
        }
      }
    }
  },
  "nbformat": 4,
  "nbformat_minor": 0
}